{
 "cells": [
  {
   "cell_type": "code",
   "execution_count": 1,
   "id": "08b519a4",
   "metadata": {},
   "outputs": [],
   "source": [
    "# Import các thư viện cần thiết\n",
    "from pyspark.sql import SparkSession\n",
    "from pyspark.sql.functions import col, sum as _sum\n",
    "from pyspark.sql.functions import countDistinct\n",
    "from pyspark.sql import functions as F\n",
    "from pyspark.sql.functions import col, count, isnan, when\n",
    "from pyspark.sql.functions import expr\n",
    "from pyspark.ml.feature import StringIndexer\n",
    "from pyspark.ml.feature import MinMaxScaler\n",
    "from pyspark.ml.feature import VectorAssembler\n",
    "from pyspark.ml import Pipeline"
   ]
  },
  {
   "cell_type": "code",
   "execution_count": 2,
   "id": "3ae192b9",
   "metadata": {},
   "outputs": [
    {
     "name": "stderr",
     "output_type": "stream",
     "text": [
      "23/12/03 01:43:06 WARN SparkSession: Using an existing Spark session; only runtime SQL configurations will take effect.\n"
     ]
    }
   ],
   "source": [
    "# Khởi tạo Spark Session\n",
    "spark = SparkSession.builder.appName(\"DataProcessing\").getOrCreate()"
   ]
  },
  {
   "cell_type": "code",
   "execution_count": 3,
   "id": "2d19aac0",
   "metadata": {},
   "outputs": [
    {
     "name": "stderr",
     "output_type": "stream",
     "text": [
      "                                                                                \r"
     ]
    }
   ],
   "source": [
    "# Đọc file\n",
    "df = spark.read.csv(\"Live_raw.csv\", header=True, inferSchema=True)"
   ]
  },
  {
   "cell_type": "code",
   "execution_count": 4,
   "id": "87b848b5",
   "metadata": {},
   "outputs": [
    {
     "name": "stdout",
     "output_type": "stream",
     "text": [
      "+--------------------+-----------+-------------------+-------------+------------+----------+---------+---------+--------+---------+--------+----------+-------+-------+-------+-------+\n",
      "|           status_id|status_type|   status_published|num_reactions|num_comments|num_shares|num_likes|num_loves|num_wows|num_hahas|num_sads|num_angrys|Column1|Column2|Column3|Column4|\n",
      "+--------------------+-----------+-------------------+-------------+------------+----------+---------+---------+--------+---------+--------+----------+-------+-------+-------+-------+\n",
      "|246675545449582_1...|      video|2018-04-22 06:00:00|          529|         512|       262|      432|       92|       3|        1|       1|         0|   NULL|   NULL|   NULL|   NULL|\n",
      "|246675545449582_1...|      photo|2018-04-21 22:45:00|          150|           0|         0|      150|        0|       0|        0|       0|         0|   NULL|   NULL|   NULL|   NULL|\n",
      "|246675545449582_1...|      video|2018-04-21 06:17:00|          227|         236|        57|      204|       21|       1|        1|       0|         0|   NULL|   NULL|   NULL|   NULL|\n",
      "|246675545449582_1...|      photo|2018-04-21 02:29:00|          111|           0|         0|      111|        0|       0|        0|       0|         0|   NULL|   NULL|   NULL|   NULL|\n",
      "|246675545449582_1...|      photo|2018-04-18 03:22:00|          213|           0|         0|      204|        9|       0|        0|       0|         0|   NULL|   NULL|   NULL|   NULL|\n",
      "|246675545449582_1...|      photo|2018-04-18 02:14:00|          217|           6|         0|      211|        5|       1|        0|       0|         0|   NULL|   NULL|   NULL|   NULL|\n",
      "|246675545449582_1...|      video|2018-04-18 00:24:00|          503|         614|        72|      418|       70|      10|        2|       0|         3|   NULL|   NULL|   NULL|   NULL|\n",
      "|246675545449582_1...|      video|2018-04-17 07:42:00|          295|         453|        53|      260|       32|       1|        1|       0|         1|   NULL|   NULL|   NULL|   NULL|\n",
      "|246675545449582_1...|      photo|2018-04-17 03:33:00|          203|           1|         0|      198|        5|       0|        0|       0|         0|   NULL|   NULL|   NULL|   NULL|\n",
      "|246675545449582_1...|      photo|2018-04-11 04:53:00|          170|           9|         1|      167|        3|       0|        0|       0|         0|   NULL|   NULL|   NULL|   NULL|\n",
      "|246675545449582_1...|      photo|2018-04-10 01:01:00|          210|           2|         3|      202|        7|       1|        0|       0|         0|   NULL|   NULL|   NULL|   NULL|\n",
      "|246675545449582_1...|      photo|2018-04-09 02:06:00|          222|           4|         0|      213|        5|       4|        0|       0|         0|   NULL|   NULL|   NULL|   NULL|\n",
      "|246675545449582_1...|      photo|2018-04-08 05:10:00|          313|           4|         2|      305|        6|       2|        0|       0|         0|   NULL|   NULL|   NULL|   NULL|\n",
      "|246675545449582_1...|      photo|2018-04-08 02:23:00|          209|           4|         0|      200|        8|       1|        0|       0|         0|   NULL|   NULL|   NULL|   NULL|\n",
      "|246675545449582_1...|      photo|2018-04-05 09:23:00|          346|          11|         0|      335|       10|       1|        0|       0|         0|   NULL|   NULL|   NULL|   NULL|\n",
      "|246675545449582_1...|      video|2018-04-01 05:16:00|          332|         100|        30|      303|       23|       1|        5|       0|         0|   NULL|   NULL|   NULL|   NULL|\n",
      "|246675545449582_1...|      video|2018-03-30 08:28:00|          135|         256|        79|      117|       18|       0|        0|       0|         0|   NULL|   NULL|   NULL|   NULL|\n",
      "|246675545449582_1...|      video|2018-03-26 08:28:00|          150|         173|        47|      132|       16|       1|        0|       1|         0|   NULL|   NULL|   NULL|   NULL|\n",
      "|246675545449582_1...|      video|2018-03-23 07:09:00|          221|         166|        36|      192|       28|       0|        1|       0|         0|   NULL|   NULL|   NULL|   NULL|\n",
      "|246675545449582_1...|      photo|2018-03-22 01:25:00|          152|           2|         0|      149|        3|       0|        0|       0|         0|   NULL|   NULL|   NULL|   NULL|\n",
      "+--------------------+-----------+-------------------+-------------+------------+----------+---------+---------+--------+---------+--------+----------+-------+-------+-------+-------+\n",
      "only showing top 20 rows\n",
      "\n"
     ]
    }
   ],
   "source": [
    "df.show()"
   ]
  },
  {
   "cell_type": "code",
   "execution_count": 5,
   "id": "37d21306",
   "metadata": {},
   "outputs": [
    {
     "name": "stderr",
     "output_type": "stream",
     "text": [
      "23/12/03 01:45:23 WARN SparkStringUtils: Truncated the string representation of a plan since it was too large. This behavior can be adjusted by setting 'spark.sql.debug.maxToStringFields'.\n",
      "[Stage 5:>                                                          (0 + 1) / 1]\r"
     ]
    },
    {
     "name": "stdout",
     "output_type": "stream",
     "text": [
      "+-------+--------------------+-----------+------------------+-----------------+------------------+-----------------+------------------+------------------+------------------+-------------------+-------------------+-------+-------+-------+-------+\n",
      "|summary|           status_id|status_type|     num_reactions|     num_comments|        num_shares|        num_likes|         num_loves|          num_wows|         num_hahas|           num_sads|         num_angrys|Column1|Column2|Column3|Column4|\n",
      "+-------+--------------------+-----------+------------------+-----------------+------------------+-----------------+------------------+------------------+------------------+-------------------+-------------------+-------+-------+-------+-------+\n",
      "|  count|                7050|       7050|              7050|             7050|              7050|             7050|              7050|              7050|              7050|               7050|               7050|      0|      0|      0|      0|\n",
      "|   mean|                NULL|       NULL|230.11716312056737|224.3560283687943|40.022553191489365|215.0431205673759|12.728652482269503|1.2893617021276595|0.6964539007092199|0.24368794326241136|0.11319148936170213|   NULL|   NULL|   NULL|   NULL|\n",
      "| stddev|                NULL|       NULL| 462.6253091352333|889.6368195190045|131.59996549017612|449.4723570561417|39.972930108595705| 8.719650380381484|3.9571834429528336| 1.5971559395113417| 0.7268118906561155|   NULL|   NULL|   NULL|   NULL|\n",
      "|    min|1050855161656896_...|       link|                 0|                0|                 0|                0|                 0|                 0|                 0|                  0|                  0|   NULL|   NULL|   NULL|   NULL|\n",
      "|    max|848451358648417_9...|      video|              4710|            20990|              3424|             4710|               657|               278|               157|                 51|                 31|   NULL|   NULL|   NULL|   NULL|\n",
      "+-------+--------------------+-----------+------------------+-----------------+------------------+-----------------+------------------+------------------+------------------+-------------------+-------------------+-------+-------+-------+-------+\n",
      "\n"
     ]
    },
    {
     "name": "stderr",
     "output_type": "stream",
     "text": [
      "\r",
      "                                                                                \r"
     ]
    }
   ],
   "source": [
    "# Xem thống kê dữ liệu\n",
    "df.describe().show()"
   ]
  },
  {
   "cell_type": "code",
   "execution_count": 6,
   "id": "7b9bd279",
   "metadata": {},
   "outputs": [
    {
     "name": "stdout",
     "output_type": "stream",
     "text": [
      "root\n",
      " |-- status_id: string (nullable = true)\n",
      " |-- status_type: string (nullable = true)\n",
      " |-- status_published: timestamp (nullable = true)\n",
      " |-- num_reactions: integer (nullable = true)\n",
      " |-- num_comments: integer (nullable = true)\n",
      " |-- num_shares: integer (nullable = true)\n",
      " |-- num_likes: integer (nullable = true)\n",
      " |-- num_loves: integer (nullable = true)\n",
      " |-- num_wows: integer (nullable = true)\n",
      " |-- num_hahas: integer (nullable = true)\n",
      " |-- num_sads: integer (nullable = true)\n",
      " |-- num_angrys: integer (nullable = true)\n",
      " |-- Column1: string (nullable = true)\n",
      " |-- Column2: string (nullable = true)\n",
      " |-- Column3: string (nullable = true)\n",
      " |-- Column4: string (nullable = true)\n",
      "\n"
     ]
    }
   ],
   "source": [
    "# Hiển thị thông tin cấu trúc dữ liệu df\n",
    "df.printSchema()"
   ]
  },
  {
   "cell_type": "code",
   "execution_count": 7,
   "id": "9c8bfffb",
   "metadata": {},
   "outputs": [
    {
     "name": "stdout",
     "output_type": "stream",
     "text": [
      "+---------+-----------+----------------+-------------+------------+----------+---------+---------+--------+---------+--------+----------+-------+-------+-------+-------+\n",
      "|status_id|status_type|status_published|num_reactions|num_comments|num_shares|num_likes|num_loves|num_wows|num_hahas|num_sads|num_angrys|Column1|Column2|Column3|Column4|\n",
      "+---------+-----------+----------------+-------------+------------+----------+---------+---------+--------+---------+--------+----------+-------+-------+-------+-------+\n",
      "|        0|          0|               0|            0|           0|         0|        0|        0|       0|        0|       0|         0|   7050|   7050|   7050|   7050|\n",
      "+---------+-----------+----------------+-------------+------------+----------+---------+---------+--------+---------+--------+----------+-------+-------+-------+-------+\n",
      "\n"
     ]
    }
   ],
   "source": [
    "# Hiển thị số giá trị NaN cho mỗi cột\n",
    "df.select([_sum(col(c).isNull().cast(\"int\")).alias(c) for c in df.columns]).show()"
   ]
  },
  {
   "cell_type": "code",
   "execution_count": 8,
   "id": "a5bd5ea9",
   "metadata": {},
   "outputs": [
    {
     "name": "stdout",
     "output_type": "stream",
     "text": [
      "root\n",
      " |-- status_id: string (nullable = true)\n",
      " |-- status_type: string (nullable = true)\n",
      " |-- status_published: timestamp (nullable = true)\n",
      " |-- num_reactions: integer (nullable = true)\n",
      " |-- num_comments: integer (nullable = true)\n",
      " |-- num_shares: integer (nullable = true)\n",
      " |-- num_likes: integer (nullable = true)\n",
      " |-- num_loves: integer (nullable = true)\n",
      " |-- num_wows: integer (nullable = true)\n",
      " |-- num_hahas: integer (nullable = true)\n",
      " |-- num_sads: integer (nullable = true)\n",
      " |-- num_angrys: integer (nullable = true)\n",
      "\n"
     ]
    }
   ],
   "source": [
    "# Xóa các cột thừa, trống dữ liệu\n",
    "df = df[df.columns[:-4]]\n",
    "df.printSchema()"
   ]
  },
  {
   "cell_type": "code",
   "execution_count": 9,
   "id": "16c97978",
   "metadata": {},
   "outputs": [
    {
     "name": "stderr",
     "output_type": "stream",
     "text": [
      "\r",
      "[Stage 9:>                                                          (0 + 1) / 1]\r"
     ]
    },
    {
     "name": "stdout",
     "output_type": "stream",
     "text": [
      "+---------+-----------+----------------+-------------+------------+----------+---------+---------+--------+---------+--------+----------+\n",
      "|status_id|status_type|status_published|num_reactions|num_comments|num_shares|num_likes|num_loves|num_wows|num_hahas|num_sads|num_angrys|\n",
      "+---------+-----------+----------------+-------------+------------+----------+---------+---------+--------+---------+--------+----------+\n",
      "|     6997|          4|            6913|         1067|         993|       501|     1044|      229|      65|       42|      24|        14|\n",
      "+---------+-----------+----------------+-------------+------------+----------+---------+---------+--------+---------+--------+----------+\n",
      "\n"
     ]
    },
    {
     "name": "stderr",
     "output_type": "stream",
     "text": [
      "\r",
      "                                                                                \r"
     ]
    }
   ],
   "source": [
    "# Đếm các giá trị duy nhất ở mỗi thuộc tính\n",
    "df.agg(*(countDistinct(col(c)).alias(c) for c in df.columns)).show()"
   ]
  },
  {
   "cell_type": "code",
   "execution_count": 10,
   "id": "ec80d04d",
   "metadata": {},
   "outputs": [],
   "source": [
    "# Xóa các cột không dùng để phân tích\n",
    "df = df.drop(\"status_id\", \"status_published\")"
   ]
  },
  {
   "cell_type": "markdown",
   "id": "ab9b212c",
   "metadata": {},
   "source": [
    "Kiểm tra sự nhất quán dữ liệu"
   ]
  },
  {
   "cell_type": "code",
   "execution_count": 11,
   "id": "9ba44adc",
   "metadata": {},
   "outputs": [],
   "source": [
    "# Tạo cột mới 'total_react' bằng cách tính tổng 6 loại tương tác\n",
    "df = df.withColumn('total_react', col('num_likes') + col('num_loves') + col('num_wows') + col('num_hahas') + col('num_sads') + col('num_angrys'))"
   ]
  },
  {
   "cell_type": "code",
   "execution_count": 12,
   "id": "5de7dccb",
   "metadata": {},
   "outputs": [
    {
     "name": "stdout",
     "output_type": "stream",
     "text": [
      "+-----------+\n",
      "|total_react|\n",
      "+-----------+\n",
      "|        529|\n",
      "|        150|\n",
      "|        227|\n",
      "|        111|\n",
      "|        213|\n",
      "|        217|\n",
      "|        503|\n",
      "|        295|\n",
      "|        203|\n",
      "|        170|\n",
      "|        210|\n",
      "|        222|\n",
      "|        313|\n",
      "|        209|\n",
      "|        346|\n",
      "|        332|\n",
      "|        135|\n",
      "|        150|\n",
      "|        221|\n",
      "|        152|\n",
      "+-----------+\n",
      "only showing top 20 rows\n",
      "\n"
     ]
    }
   ],
   "source": [
    "df.select('total_react').show()"
   ]
  },
  {
   "cell_type": "code",
   "execution_count": 13,
   "id": "25a848c9",
   "metadata": {},
   "outputs": [],
   "source": [
    "# Tạo cột mới để kiểm tra num_reactions bằng total_react\n",
    "df = df.withColumn('check', expr(\"num_reactions = total_react\"))"
   ]
  },
  {
   "cell_type": "code",
   "execution_count": 14,
   "id": "c4cee9c0",
   "metadata": {},
   "outputs": [
    {
     "name": "stdout",
     "output_type": "stream",
     "text": [
      "+-----+-----+\n",
      "|check|count|\n",
      "+-----+-----+\n",
      "| true| 7041|\n",
      "|false|    9|\n",
      "+-----+-----+\n",
      "\n"
     ]
    }
   ],
   "source": [
    "# Đếm số lượng giá trị True và False trong cột 'check'\n",
    "df.groupBy('check').count().show()"
   ]
  },
  {
   "cell_type": "code",
   "execution_count": 15,
   "id": "d211f2ec",
   "metadata": {},
   "outputs": [],
   "source": [
    "# Cập nhật giá trị của 'num_reactions' bằng với 'total_react'\n",
    "df = df.withColumn('num_reactions', col('total_react'))"
   ]
  },
  {
   "cell_type": "code",
   "execution_count": 16,
   "id": "0b065daa",
   "metadata": {},
   "outputs": [],
   "source": [
    "# Xóa 2 cột total_react và check\n",
    "df = df.drop('total_react', 'check')"
   ]
  },
  {
   "cell_type": "code",
   "execution_count": 17,
   "id": "ef8c7e45",
   "metadata": {},
   "outputs": [
    {
     "name": "stdout",
     "output_type": "stream",
     "text": [
      "root\n",
      " |-- status_type: string (nullable = true)\n",
      " |-- num_reactions: integer (nullable = true)\n",
      " |-- num_comments: integer (nullable = true)\n",
      " |-- num_shares: integer (nullable = true)\n",
      " |-- num_likes: integer (nullable = true)\n",
      " |-- num_loves: integer (nullable = true)\n",
      " |-- num_wows: integer (nullable = true)\n",
      " |-- num_hahas: integer (nullable = true)\n",
      " |-- num_sads: integer (nullable = true)\n",
      " |-- num_angrys: integer (nullable = true)\n",
      "\n"
     ]
    }
   ],
   "source": [
    "df.printSchema()"
   ]
  },
  {
   "cell_type": "code",
   "execution_count": 16,
   "id": "50ebc3ba",
   "metadata": {},
   "outputs": [
    {
     "name": "stdout",
     "output_type": "stream",
     "text": [
      "+-----------+\n",
      "|status_type|\n",
      "+-----------+\n",
      "|       link|\n",
      "|     status|\n",
      "|      video|\n",
      "|      photo|\n",
      "+-----------+\n",
      "\n"
     ]
    }
   ],
   "source": [
    "# Hiển thị các giá trị duy nhất của cột 'status_type'\n",
    "df.select('status_type').distinct().show()"
   ]
  },
  {
   "cell_type": "code",
   "execution_count": 22,
   "id": "c252b4f5",
   "metadata": {},
   "outputs": [
    {
     "name": "stdout",
     "output_type": "stream",
     "text": [
      "+-----------+-------------+------------+----------+---------+---------+--------+---------+--------+----------+\n",
      "|status_type|num_reactions|num_comments|num_shares|num_likes|num_loves|num_wows|num_hahas|num_sads|num_angrys|\n",
      "+-----------+-------------+------------+----------+---------+---------+--------+---------+--------+----------+\n",
      "|          1|          529|         512|       262|      432|       92|       3|        1|       1|         0|\n",
      "|          0|          150|           0|         0|      150|        0|       0|        0|       0|         0|\n",
      "|          1|          227|         236|        57|      204|       21|       1|        1|       0|         0|\n",
      "|          0|          111|           0|         0|      111|        0|       0|        0|       0|         0|\n",
      "|          0|          213|           0|         0|      204|        9|       0|        0|       0|         0|\n",
      "|          0|          217|           6|         0|      211|        5|       1|        0|       0|         0|\n",
      "|          1|          503|         614|        72|      418|       70|      10|        2|       0|         3|\n",
      "|          1|          295|         453|        53|      260|       32|       1|        1|       0|         1|\n",
      "|          0|          203|           1|         0|      198|        5|       0|        0|       0|         0|\n",
      "|          0|          170|           9|         1|      167|        3|       0|        0|       0|         0|\n",
      "|          0|          210|           2|         3|      202|        7|       1|        0|       0|         0|\n",
      "|          0|          222|           4|         0|      213|        5|       4|        0|       0|         0|\n",
      "|          0|          313|           4|         2|      305|        6|       2|        0|       0|         0|\n",
      "|          0|          209|           4|         0|      200|        8|       1|        0|       0|         0|\n",
      "|          0|          346|          11|         0|      335|       10|       1|        0|       0|         0|\n",
      "|          1|          332|         100|        30|      303|       23|       1|        5|       0|         0|\n",
      "|          1|          135|         256|        79|      117|       18|       0|        0|       0|         0|\n",
      "|          1|          150|         173|        47|      132|       16|       1|        0|       1|         0|\n",
      "|          1|          221|         166|        36|      192|       28|       0|        1|       0|         0|\n",
      "|          0|          152|           2|         0|      149|        3|       0|        0|       0|         0|\n",
      "+-----------+-------------+------------+----------+---------+---------+--------+---------+--------+----------+\n",
      "only showing top 20 rows\n",
      "\n"
     ]
    },
    {
     "name": "stderr",
     "output_type": "stream",
     "text": [
      "\r",
      "[Stage 28:>                                                         (0 + 1) / 1]\r"
     ]
    },
    {
     "name": "stdout",
     "output_type": "stream",
     "text": [
      "+------+-----+\n",
      "| label|index|\n",
      "+------+-----+\n",
      "| photo|    0|\n",
      "| video|    1|\n",
      "|status|    2|\n",
      "|  link|    3|\n",
      "+------+-----+\n",
      "\n"
     ]
    },
    {
     "name": "stderr",
     "output_type": "stream",
     "text": [
      "\r",
      "                                                                                \r"
     ]
    }
   ],
   "source": [
    "# Tạo và huấn luyện StringIndexer\n",
    "indexer = StringIndexer(inputCol=\"status_type\", outputCol=\"status_type_indexed\")\n",
    "model = indexer.fit(df)\n",
    "df = model.transform(df)\n",
    "\n",
    "\n",
    "# Cập nhật cột 'status_type' với giá trị của 'status_type_indexed'\n",
    "df = df.withColumn(\"status_type\", col(\"status_type_indexed\").cast('int'))\n",
    "\n",
    "# Xóa cột 'status_type_indexed'\n",
    "df = df.drop(\"status_type_indexed\")\n",
    "\n",
    "# Hiển thị DataFrame sau khi được mã hóa\n",
    "df.show()\n",
    "\n",
    "# Lấy danh sách các nhãn\n",
    "labels = model.labels\n",
    "\n",
    "# Tạo DataFrame từ danh sách nhãn và chỉ số\n",
    "labels_df = spark.createDataFrame([(labels[i], i) for i in range(len(labels))], [\"label\", \"index\"])\n",
    "\n",
    "# Hiển thị ánh xạ giữa nhãn gốc và chỉ số\n",
    "labels_df.show()"
   ]
  },
  {
   "cell_type": "code",
   "execution_count": 23,
   "id": "9ae7ac31",
   "metadata": {},
   "outputs": [
    {
     "name": "stdout",
     "output_type": "stream",
     "text": [
      "root\n",
      " |-- status_type: integer (nullable = true)\n",
      " |-- num_reactions: integer (nullable = true)\n",
      " |-- num_comments: integer (nullable = true)\n",
      " |-- num_shares: integer (nullable = true)\n",
      " |-- num_likes: integer (nullable = true)\n",
      " |-- num_loves: integer (nullable = true)\n",
      " |-- num_wows: integer (nullable = true)\n",
      " |-- num_hahas: integer (nullable = true)\n",
      " |-- num_sads: integer (nullable = true)\n",
      " |-- num_angrys: integer (nullable = true)\n",
      "\n"
     ]
    }
   ],
   "source": [
    "df.printSchema()"
   ]
  },
  {
   "cell_type": "code",
   "execution_count": 24,
   "id": "6dcba0f7",
   "metadata": {},
   "outputs": [
    {
     "name": "stdout",
     "output_type": "stream",
     "text": [
      "+-----------+--------------------+--------------------+--------------------+--------------------+------------------+--------------------+--------------------+------------------+-------------------+\n",
      "|status_type|       num_reactions|        num_comments|          num_shares|           num_likes|         num_loves|            num_wows|           num_hahas|          num_sads|         num_angrys|\n",
      "+-----------+--------------------+--------------------+--------------------+--------------------+------------------+--------------------+--------------------+------------------+-------------------+\n",
      "|          1| 0.11231422505307856|0.024392567889471178| 0.07651869158878505| 0.09171974522292993|0.1400304414003044| 0.01079136690647482|0.006369426751592357|0.0196078431372549|                0.0|\n",
      "|          0| 0.03184713375796178|                 0.0|                 0.0| 0.03184713375796178|               0.0|                 0.0|                 0.0|               0.0|                0.0|\n",
      "|          1|0.048195329087048835| 0.01124344926155312| 0.01664719626168224| 0.04331210191082802|0.0319634703196347|0.003597122302158...|0.006369426751592357|               0.0|                0.0|\n",
      "|          0| 0.02356687898089172|                 0.0|                 0.0| 0.02356687898089172|               0.0|                 0.0|                 0.0|               0.0|                0.0|\n",
      "|          0| 0.04522292993630573|                 0.0|                 0.0| 0.04331210191082802|0.0136986301369863|                 0.0|                 0.0|               0.0|                0.0|\n",
      "|          0| 0.04607218683651804|2.858504049547403...|                 0.0| 0.04479830148619957|0.0076103500761035|0.003597122302158...|                 0.0|               0.0|                0.0|\n",
      "|          1| 0.10679405520169852|0.029252024773701764| 0.02102803738317757| 0.08874734607218683| 0.106544901065449| 0.03597122302158273|0.012738853503184714|               0.0| 0.0967741935483871|\n",
      "|          1| 0.06263269639065817|0.021581705574082895|0.015478971962616822|0.055201698513800426|0.0487062404870624|0.003597122302158...|0.006369426751592357|               0.0|0.03225806451612903|\n",
      "|          0|0.043099787685774944|4.764173415912339...|                 0.0| 0.04203821656050955|0.0076103500761035|                 0.0|                 0.0|               0.0|                0.0|\n",
      "|          0|0.036093418259023353|4.287756074321105E-4|2.920560747663551E-4| 0.03545647558386412|0.0045662100456621|                 0.0|                 0.0|               0.0|                0.0|\n",
      "|          0|0.044585987261146494|9.528346831824679E-5|8.761682242990654E-4|0.042887473460721866|0.0106544901065449|0.003597122302158...|                 0.0|               0.0|                0.0|\n",
      "|          0| 0.04713375796178344|1.905669366364935...|                 0.0| 0.04522292993630573|0.0076103500761035|0.014388489208633094|                 0.0|               0.0|                0.0|\n",
      "|          0| 0.06645435244161359|1.905669366364935...|5.841121495327102E-4| 0.06475583864118896|0.0091324200913242|0.007194244604316547|                 0.0|               0.0|                0.0|\n",
      "|          0|0.044373673036093415|1.905669366364935...|                 0.0| 0.04246284501061571|0.0121765601217656|0.003597122302158...|                 0.0|               0.0|                0.0|\n",
      "|          0| 0.07346072186836518|5.240590757503573E-4|                 0.0| 0.07112526539278131| 0.015220700152207|0.003597122302158...|                 0.0|               0.0|                0.0|\n",
      "|          1| 0.07048832271762208|0.004764173415912339|0.008761682242990653|  0.0643312101910828|0.0350076103500761|0.003597122302158...| 0.03184713375796178|               0.0|                0.0|\n",
      "|          1|0.028662420382165606|0.012196283944735589|0.023072429906542055|0.024840764331210193|0.0273972602739726|                 0.0|                 0.0|               0.0|                0.0|\n",
      "|          1| 0.03184713375796178|0.008242020009528346|0.013726635514018691| 0.02802547770700637|0.0243531202435312|0.003597122302158...|                 0.0|0.0196078431372549|                0.0|\n",
      "|          1|0.046921443736730364|0.007908527870414484|0.010514018691588784| 0.04076433121019108|0.0426179604261796|                 0.0|0.006369426751592357|               0.0|                0.0|\n",
      "|          0| 0.03227176220806794|9.528346831824679E-5|                 0.0|0.031634819532908705|0.0045662100456621|                 0.0|                 0.0|               0.0|                0.0|\n",
      "+-----------+--------------------+--------------------+--------------------+--------------------+------------------+--------------------+--------------------+------------------+-------------------+\n",
      "only showing top 20 rows\n",
      "\n"
     ]
    }
   ],
   "source": [
    "# Danh sách các cột cần chuẩn hóa\n",
    "columns_to_scale = [\"num_reactions\", \"num_comments\", \"num_shares\", \"num_likes\", \n",
    "                    \"num_loves\", \"num_wows\", \"num_hahas\", \"num_sads\", \"num_angrys\"]\n",
    "\n",
    "# Thực hiện Min-Max Scaling cho mỗi cột\n",
    "for col_name in columns_to_scale:\n",
    "    # Tính min và max cho cột\n",
    "    min_col = df.agg({col_name: \"min\"}).collect()[0][0]\n",
    "    max_col = df.agg({col_name: \"max\"}).collect()[0][0]\n",
    "\n",
    "    # Áp dụng Min-Max Scaling\n",
    "    df = df.withColumn(col_name, (col(col_name) - min_col) / (max_col - min_col))\n",
    "\n",
    "# Hiển thị DataFrame sau khi được chuẩn hóa\n",
    "df.show()"
   ]
  },
  {
   "cell_type": "code",
   "execution_count": 25,
   "id": "3ee1919f",
   "metadata": {},
   "outputs": [
    {
     "name": "stderr",
     "output_type": "stream",
     "text": [
      "                                                                                \r"
     ]
    }
   ],
   "source": [
    "# Xuất ra file mới\n",
    "df.coalesce(1).write.csv(\"Live.csv\", header=True)"
   ]
  }
 ],
 "metadata": {
  "kernelspec": {
   "display_name": "Python 3 (ipykernel)",
   "language": "python",
   "name": "python3"
  },
  "language_info": {
   "codemirror_mode": {
    "name": "ipython",
    "version": 3
   },
   "file_extension": ".py",
   "mimetype": "text/x-python",
   "name": "python",
   "nbconvert_exporter": "python",
   "pygments_lexer": "ipython3",
   "version": "3.10.12"
  }
 },
 "nbformat": 4,
 "nbformat_minor": 5
}
